{
  "nbformat": 4,
  "nbformat_minor": 0,
  "metadata": {
    "colab": {
      "provenance": []
    },
    "kernelspec": {
      "name": "python3",
      "display_name": "Python 3"
    },
    "language_info": {
      "name": "python"
    }
  },
  "cells": [
    {
      "cell_type": "code",
      "execution_count": null,
      "metadata": {
        "id": "8-OLkuYawTAN"
      },
      "outputs": [],
      "source": [
        "with open('members.txt', mode = 'r') as file:\n",
        "  members = file.readlines()[1:]"
      ]
    },
    {
      "cell_type": "code",
      "source": [
        "members"
      ],
      "metadata": {
        "colab": {
          "base_uri": "https://localhost:8080/"
        },
        "id": "plEp2BXuxifT",
        "outputId": "b110fbe6-62ba-4070-ded2-f53a36e2f727"
      },
      "execution_count": null,
      "outputs": [
        {
          "output_type": "execute_result",
          "data": {
            "text/plain": [
              "['    20364      2016-6-11    no    \\n',\n",
              " '    51945      2015-4-10    yes   \\n',\n",
              " '    88053      2016-2-19    yes   \\n',\n",
              " '    49743      2020-4-12    yes   \\n',\n",
              " '    49109      2016-4-12    no    \\n',\n",
              " '    36642      2018-11-16   no    \\n',\n",
              " '    21690      2016-11-19   yes   \\n',\n",
              " '    43779      2020-6-9     yes   \\n',\n",
              " '    42687      2017-9-12    yes   \\n',\n",
              " '    32923      2020-4-25    no    \\n',\n",
              " '    76363      2016-1-23    no    \\n',\n",
              " '    54779      2016-6-24    no    \\n',\n",
              " '    49827      2019-8-1     no    \\n',\n",
              " '    21077      2016-3-25    no    \\n',\n",
              " '    70880      2020-3-7     yes   \\n',\n",
              " '    46937      2016-6-24    yes   \\n',\n",
              " '    15432      2015-1-4     no    \\n',\n",
              " '    63456      2020-2-11    no    \\n',\n",
              " '    37395      2019-4-6     yes   \\n',\n",
              " '    43411      2018-2-1     no    \\n']"
            ]
          },
          "metadata": {},
          "execution_count": 3
        }
      ]
    },
    {
      "cell_type": "code",
      "source": [
        "#Splitting each of the data\n",
        "new_list = [words for segments in members for words in segments.split()]\n",
        "print(new_list)"
      ],
      "metadata": {
        "colab": {
          "base_uri": "https://localhost:8080/"
        },
        "id": "J_KmOOTvQl92",
        "outputId": "e81ef595-3c52-429b-a50c-d25008a88aa9"
      },
      "execution_count": null,
      "outputs": [
        {
          "output_type": "stream",
          "name": "stdout",
          "text": [
            "['20364', '2016-6-11', 'no', '51945', '2015-4-10', 'yes', '88053', '2016-2-19', 'yes', '49743', '2020-4-12', 'yes', '49109', '2016-4-12', 'no', '36642', '2018-11-16', 'no', '21690', '2016-11-19', 'yes', '43779', '2020-6-9', 'yes', '42687', '2017-9-12', 'yes', '32923', '2020-4-25', 'no', '76363', '2016-1-23', 'no', '54779', '2016-6-24', 'no', '49827', '2019-8-1', 'no', '21077', '2016-3-25', 'no', '70880', '2020-3-7', 'yes', '46937', '2016-6-24', 'yes', '15432', '2015-1-4', 'no', '63456', '2020-2-11', 'no', '37395', '2019-4-6', 'yes', '43411', '2018-2-1', 'no']\n"
          ]
        }
      ]
    },
    {
      "cell_type": "code",
      "source": [
        "#converting into list of tuples \n",
        "it = iter(new_list)\n",
        "clean_lst = [i for i in zip(*[iter(new_list)]*3)]\n",
        "print(clean_lst)"
      ],
      "metadata": {
        "colab": {
          "base_uri": "https://localhost:8080/"
        },
        "id": "rg6r26RuQ6ex",
        "outputId": "b02ebb58-e0c1-47d8-99f4-a935cbf3f427"
      },
      "execution_count": null,
      "outputs": [
        {
          "output_type": "stream",
          "name": "stdout",
          "text": [
            "[('20364', '2016-6-11', 'no'), ('51945', '2015-4-10', 'yes'), ('88053', '2016-2-19', 'yes'), ('49743', '2020-4-12', 'yes'), ('49109', '2016-4-12', 'no'), ('36642', '2018-11-16', 'no'), ('21690', '2016-11-19', 'yes'), ('43779', '2020-6-9', 'yes'), ('42687', '2017-9-12', 'yes'), ('32923', '2020-4-25', 'no'), ('76363', '2016-1-23', 'no'), ('54779', '2016-6-24', 'no'), ('49827', '2019-8-1', 'no'), ('21077', '2016-3-25', 'no'), ('70880', '2020-3-7', 'yes'), ('46937', '2016-6-24', 'yes'), ('15432', '2015-1-4', 'no'), ('63456', '2020-2-11', 'no'), ('37395', '2019-4-6', 'yes'), ('43411', '2018-2-1', 'no')]\n"
          ]
        }
      ]
    },
    {
      "cell_type": "code",
      "source": [
        "#finding active members\n",
        "act_mem = [item for item in clean_lst if 'yes' in item]\n",
        "print(act_mem)\n",
        "type(act_mem)"
      ],
      "metadata": {
        "colab": {
          "base_uri": "https://localhost:8080/"
        },
        "id": "U4NWg6O_ooSK",
        "outputId": "1441ecd5-ac5c-42c5-c1c4-a839cff424fd"
      },
      "execution_count": null,
      "outputs": [
        {
          "output_type": "stream",
          "name": "stdout",
          "text": [
            "[('51945', '2015-4-10', 'yes'), ('88053', '2016-2-19', 'yes'), ('49743', '2020-4-12', 'yes'), ('21690', '2016-11-19', 'yes'), ('43779', '2020-6-9', 'yes'), ('42687', '2017-9-12', 'yes'), ('70880', '2020-3-7', 'yes'), ('46937', '2016-6-24', 'yes'), ('37395', '2019-4-6', 'yes')]\n"
          ]
        },
        {
          "output_type": "execute_result",
          "data": {
            "text/plain": [
              "list"
            ]
          },
          "metadata": {},
          "execution_count": 6
        }
      ]
    },
    {
      "cell_type": "code",
      "source": [
        "#changing the tuples back into strings\n",
        "active_file = [' '.join(item) for item in act_mem]\n",
        "print(active_file)"
      ],
      "metadata": {
        "colab": {
          "base_uri": "https://localhost:8080/"
        },
        "id": "voeMY7fnp5b9",
        "outputId": "56775df0-23d9-48a4-c6b5-5b523f93fcff"
      },
      "execution_count": null,
      "outputs": [
        {
          "output_type": "stream",
          "name": "stdout",
          "text": [
            "['51945 2015-4-10 yes', '88053 2016-2-19 yes', '49743 2020-4-12 yes', '21690 2016-11-19 yes', '43779 2020-6-9 yes', '42687 2017-9-12 yes', '70880 2020-3-7 yes', '46937 2016-6-24 yes', '37395 2019-4-6 yes']\n"
          ]
        }
      ]
    },
    {
      "cell_type": "code",
      "source": [
        "#giving the title\n",
        "active_file = [\"Active Members List\"] + active_file\n",
        "\n",
        "#converting the list into string so that it can be appended to the file\n",
        "listToStr = '\\n'.join([str(elem) for elem in active_file])\n",
        "print(listToStr)"
      ],
      "metadata": {
        "colab": {
          "base_uri": "https://localhost:8080/"
        },
        "id": "3K22tMQt5SfZ",
        "outputId": "e5349f9f-c714-4143-af02-694ddab2e44e"
      },
      "execution_count": null,
      "outputs": [
        {
          "output_type": "stream",
          "name": "stdout",
          "text": [
            "Active Members List\n",
            "51945 2015-4-10 yes\n",
            "88053 2016-2-19 yes\n",
            "49743 2020-4-12 yes\n",
            "21690 2016-11-19 yes\n",
            "43779 2020-6-9 yes\n",
            "42687 2017-9-12 yes\n",
            "70880 2020-3-7 yes\n",
            "46937 2016-6-24 yes\n",
            "37395 2019-4-6 yes\n"
          ]
        }
      ]
    },
    {
      "cell_type": "code",
      "source": [
        "\n",
        "with open('active_members_file_txt', 'w') as f:\n",
        "  f.write(listToStr)\n"
      ],
      "metadata": {
        "id": "DmRGxfH3sp9G"
      },
      "execution_count": null,
      "outputs": []
    },
    {
      "cell_type": "code",
      "source": [
        "non_act_mem = [item for item in clean_lst if 'no' in item]\n",
        "print(non_act_mem)\n",
        "type(non_act_mem)"
      ],
      "metadata": {
        "colab": {
          "base_uri": "https://localhost:8080/"
        },
        "id": "env18sRbS4de",
        "outputId": "1bf10f31-4909-49a7-cabe-87d625c15292"
      },
      "execution_count": null,
      "outputs": [
        {
          "output_type": "stream",
          "name": "stdout",
          "text": [
            "[('20364', '2016-6-11', 'no'), ('49109', '2016-4-12', 'no'), ('36642', '2018-11-16', 'no'), ('32923', '2020-4-25', 'no'), ('76363', '2016-1-23', 'no'), ('54779', '2016-6-24', 'no'), ('49827', '2019-8-1', 'no'), ('21077', '2016-3-25', 'no'), ('15432', '2015-1-4', 'no'), ('63456', '2020-2-11', 'no'), ('43411', '2018-2-1', 'no')]\n"
          ]
        },
        {
          "output_type": "execute_result",
          "data": {
            "text/plain": [
              "list"
            ]
          },
          "metadata": {},
          "execution_count": 14
        }
      ]
    },
    {
      "cell_type": "code",
      "source": [
        "non_active_file = [' '.join(item) for item in non_act_mem]\n",
        "print(non_active_file)"
      ],
      "metadata": {
        "colab": {
          "base_uri": "https://localhost:8080/"
        },
        "id": "kP2GfaXONfFV",
        "outputId": "11bf2eca-b308-48d6-dade-f3ccfed414fa"
      },
      "execution_count": null,
      "outputs": [
        {
          "output_type": "stream",
          "name": "stdout",
          "text": [
            "['20364 2016-6-11 no', '49109 2016-4-12 no', '36642 2018-11-16 no', '32923 2020-4-25 no', '76363 2016-1-23 no', '54779 2016-6-24 no', '49827 2019-8-1 no', '21077 2016-3-25 no', '15432 2015-1-4 no', '63456 2020-2-11 no', '43411 2018-2-1 no']\n"
          ]
        }
      ]
    },
    {
      "cell_type": "code",
      "source": [
        "non_active_file = [\"Non-Active Members List\"] + non_active_file\n",
        "list_to_str = '\\n'.join([str(elem) for elem in non_active_file])\n",
        "print(list_to_str)"
      ],
      "metadata": {
        "colab": {
          "base_uri": "https://localhost:8080/"
        },
        "id": "LFYnEAlmNe1o",
        "outputId": "1385234e-6c92-43cc-8e35-33b74599c574"
      },
      "execution_count": null,
      "outputs": [
        {
          "output_type": "stream",
          "name": "stdout",
          "text": [
            "Non-Active Members List\n",
            "20364 2016-6-11 no\n",
            "49109 2016-4-12 no\n",
            "36642 2018-11-16 no\n",
            "32923 2020-4-25 no\n",
            "76363 2016-1-23 no\n",
            "54779 2016-6-24 no\n",
            "49827 2019-8-1 no\n",
            "21077 2016-3-25 no\n",
            "15432 2015-1-4 no\n",
            "63456 2020-2-11 no\n",
            "43411 2018-2-1 no\n"
          ]
        }
      ]
    },
    {
      "cell_type": "code",
      "source": [
        "with open('non_active_members_file_txt', 'w') as f:\n",
        "  f.write(list_to_str)"
      ],
      "metadata": {
        "id": "GFum5zRfOVdO"
      },
      "execution_count": 22,
      "outputs": []
    }
  ]
}